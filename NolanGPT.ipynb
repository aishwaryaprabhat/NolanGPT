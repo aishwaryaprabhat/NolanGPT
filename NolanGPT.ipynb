{
 "cells": [
  {
   "cell_type": "markdown",
   "id": "3382a13a-488e-4ee5-80c5-022e33afe492",
   "metadata": {},
   "source": [
    "## Load Data"
   ]
  },
  {
   "cell_type": "code",
   "execution_count": 4,
   "id": "56f6e840-33aa-4893-9fde-75f5cc9104d0",
   "metadata": {},
   "outputs": [],
   "source": [
    "combined_txt_path = \"data/combined.txt\"\n",
    "with open(combined_txt_path, \"r\", encoding=\"utf-8\") as file:\n",
    "    text = file.read()"
   ]
  },
  {
   "cell_type": "markdown",
   "id": "06249943-b84e-45a1-80e9-160adcb7d910",
   "metadata": {},
   "source": [
    "## Tokenize\n",
    "- We are building a character level language model\n",
    "- When we encode, we get back a list of integers\n",
    "- When we decode, we get back the chars\n",
    "- Typically subword encodings are used (tiktoken, sentenpiece etc.)"
   ]
  },
  {
   "cell_type": "code",
   "execution_count": 7,
   "id": "1fd3d748-622c-4b26-9595-4940ce32ce95",
   "metadata": {},
   "outputs": [
    {
     "name": "stdout",
     "output_type": "stream",
     "text": [
      "[32, 67, 77, 68, 78, 79, 74, 75, 67, 64, 77, 1, 43, 74, 71, 60, 73]\n",
      "Christopher Nolan\n"
     ]
    }
   ],
   "source": [
    "# create a mapping from characters to integers\n",
    "# here are all the unique characters that occur in this text\n",
    "chars = sorted(list(set(text)))\n",
    "stoi = { ch:i for i,ch in enumerate(chars) }\n",
    "itos = { i:ch for i,ch in enumerate(chars) }\n",
    "encode = lambda s: [stoi[c] for c in s] # encoder: take a string, output a list of integers\n",
    "decode = lambda l: ''.join([itos[i] for i in l]) # decoder: take a list of integers, output a string\n",
    "\n",
    "print(encode(\"Christopher Nolan\"))\n",
    "print(decode(encode(\"Christopher Nolan\")))"
   ]
  },
  {
   "cell_type": "code",
   "execution_count": 11,
   "id": "ca4bd85f-1bf2-49aa-8b80-f71503988a63",
   "metadata": {
    "scrolled": true
   },
   "outputs": [
    {
     "name": "stdout",
     "output_type": "stream",
     "text": [
      "torch.Size([12656655]) torch.int64\n",
      "tensor([30, 65, 79, 64, 77,  1, 79, 67, 64,  1, 74, 75, 64, 73, 68, 73, 66,  1,\n",
      "        71, 74, 66, 74, 78, 12,  1, 71, 64, 60, 81, 64, 78,  1, 78, 79, 60, 77,\n",
      "        79,  1, 65, 60, 71, 71, 68, 73, 66,  1, 60, 73, 63,  1, 82, 64,  1, 67,\n",
      "        64, 60, 77,  1, 60,  1, 81, 74, 68, 62, 64, 13, 74, 81, 64, 77, 14,  0,\n",
      "         0, 31, 47, 50, 32, 34,  1, 52, 30, 54, 43, 34,  1,  9, 51, 44, 10, 26,\n",
      "         1, 49, 67, 64, 77, 64,  1, 82, 60, 78])\n"
     ]
    }
   ],
   "source": [
    "# Encode the dataset and store it into a torch.Tensor\n",
    "import torch # we use PyTorch: https://pytorch.org\n",
    "data = torch.tensor(encode(text), dtype=torch.long)\n",
    "print(data.shape, data.dtype)\n",
    "print(data[:100])"
   ]
  },
  {
   "cell_type": "markdown",
   "id": "5874eba7-37c8-4f9a-a1a2-6c35a2c46415",
   "metadata": {},
   "source": [
    "## Split Dataset into train and val sets"
   ]
  },
  {
   "cell_type": "code",
   "execution_count": 12,
   "id": "1b0bebc0-5533-4ee8-983c-c20c0d82181b",
   "metadata": {},
   "outputs": [],
   "source": [
    "n = int(0.9*len(data)) # first 90% will be train, rest val\n",
    "train_data = data[:n]\n",
    "val_data = data[n:]"
   ]
  },
  {
   "cell_type": "markdown",
   "id": "15a5a7b0-8a64-4cd8-beb8-447a2528fc45",
   "metadata": {},
   "source": [
    "## Batching of Chunks\n",
    "- Training the transformer on all the data is usually computationally not feasible and so we train the transformer on chunks of the data"
   ]
  },
  {
   "cell_type": "code",
   "execution_count": 13,
   "id": "dea5f25c-c74c-4f6e-84a3-c6db351a72b7",
   "metadata": {},
   "outputs": [
    {
     "data": {
      "text/plain": [
       "tensor([30, 65, 79, 64, 77,  1, 79, 67, 64])"
      ]
     },
     "execution_count": 13,
     "metadata": {},
     "output_type": "execute_result"
    }
   ],
   "source": [
    "block_size = 8\n",
    "train_data[:block_size+1]"
   ]
  },
  {
   "cell_type": "markdown",
   "id": "c2e5de84-1d12-49e3-99d9-f627b70facd3",
   "metadata": {},
   "source": [
    "- When we train the transformer in chunks, we are trying to predict the entire chunk. For example, given [30], 65 is next; given [30, 65], 79 is next and so on\n",
    "- Moreover, we want the transformer to be used to seeing chunks of size 1 all the way to chunks of size `block_size`"
   ]
  },
  {
   "cell_type": "code",
   "execution_count": 15,
   "id": "ed091cb6-cda3-48a7-99c6-fb78a8230d6b",
   "metadata": {},
   "outputs": [
    {
     "name": "stdout",
     "output_type": "stream",
     "text": [
      "when input is tensor([30]) the target: 65\n",
      "when input is tensor([30, 65]) the target: 79\n",
      "when input is tensor([30, 65, 79]) the target: 64\n",
      "when input is tensor([30, 65, 79, 64]) the target: 77\n",
      "when input is tensor([30, 65, 79, 64, 77]) the target: 1\n",
      "when input is tensor([30, 65, 79, 64, 77,  1]) the target: 79\n",
      "when input is tensor([30, 65, 79, 64, 77,  1, 79]) the target: 67\n",
      "when input is tensor([30, 65, 79, 64, 77,  1, 79, 67]) the target: 64\n"
     ]
    }
   ],
   "source": [
    "x = train_data[:block_size]\n",
    "y = train_data[1:block_size+1]\n",
    "for t in range(block_size):\n",
    "    context = x[:t+1]\n",
    "    target = y[t]\n",
    "    print(f\"when input is {context} the target: {target}\")"
   ]
  },
  {
   "cell_type": "markdown",
   "id": "ace2dd23-b785-4f2b-a55a-19252552ad84",
   "metadata": {},
   "source": [
    "- We usually stack up chunks so that we can do parallel processing on GPUs"
   ]
  },
  {
   "cell_type": "code",
   "execution_count": 16,
   "id": "5963e8a3-9bbb-4f62-83ae-0308a1c2018d",
   "metadata": {},
   "outputs": [
    {
     "name": "stdout",
     "output_type": "stream",
     "text": [
      "inputs:\n",
      "torch.Size([4, 8])\n",
      "tensor([[64, 79,  1, 60, 73, 63,  1, 82],\n",
      "        [17, 14,  0, 30,  1, 51, 44, 38],\n",
      "        [ 1, 61, 74, 63, 84, 12,  1, 71],\n",
      "        [38, 32, 40, 48,  1, 67, 68, 72]])\n",
      "targets:\n",
      "torch.Size([4, 8])\n",
      "tensor([[79,  1, 60, 73, 63,  1, 82, 60],\n",
      "        [14,  0, 30,  1, 51, 44, 38, 32],\n",
      "        [61, 74, 63, 84, 12,  1, 71, 84],\n",
      "        [32, 40, 48,  1, 67, 68, 72, 13]])\n",
      "----\n",
      "when input is [64] the target: 79\n",
      "when input is [64, 79] the target: 1\n",
      "when input is [64, 79, 1] the target: 60\n",
      "when input is [64, 79, 1, 60] the target: 73\n",
      "when input is [64, 79, 1, 60, 73] the target: 63\n",
      "when input is [64, 79, 1, 60, 73, 63] the target: 1\n",
      "when input is [64, 79, 1, 60, 73, 63, 1] the target: 82\n",
      "when input is [64, 79, 1, 60, 73, 63, 1, 82] the target: 60\n",
      "when input is [17] the target: 14\n",
      "when input is [17, 14] the target: 0\n",
      "when input is [17, 14, 0] the target: 30\n",
      "when input is [17, 14, 0, 30] the target: 1\n",
      "when input is [17, 14, 0, 30, 1] the target: 51\n",
      "when input is [17, 14, 0, 30, 1, 51] the target: 44\n",
      "when input is [17, 14, 0, 30, 1, 51, 44] the target: 38\n",
      "when input is [17, 14, 0, 30, 1, 51, 44, 38] the target: 32\n",
      "when input is [1] the target: 61\n",
      "when input is [1, 61] the target: 74\n",
      "when input is [1, 61, 74] the target: 63\n",
      "when input is [1, 61, 74, 63] the target: 84\n",
      "when input is [1, 61, 74, 63, 84] the target: 12\n",
      "when input is [1, 61, 74, 63, 84, 12] the target: 1\n",
      "when input is [1, 61, 74, 63, 84, 12, 1] the target: 71\n",
      "when input is [1, 61, 74, 63, 84, 12, 1, 71] the target: 84\n",
      "when input is [38] the target: 32\n",
      "when input is [38, 32] the target: 40\n",
      "when input is [38, 32, 40] the target: 48\n",
      "when input is [38, 32, 40, 48] the target: 1\n",
      "when input is [38, 32, 40, 48, 1] the target: 67\n",
      "when input is [38, 32, 40, 48, 1, 67] the target: 68\n",
      "when input is [38, 32, 40, 48, 1, 67, 68] the target: 72\n",
      "when input is [38, 32, 40, 48, 1, 67, 68, 72] the target: 13\n"
     ]
    }
   ],
   "source": [
    "torch.manual_seed(1337)\n",
    "batch_size = 4 # how many independent sequences will we process in parallel?\n",
    "block_size = 8 # what is the maximum context length for predictions?\n",
    "\n",
    "def get_batch(split):\n",
    "    # generate a small batch of data of inputs x and targets y\n",
    "    data = train_data if split == 'train' else val_data\n",
    "    ix = torch.randint(len(data) - block_size, (batch_size,))\n",
    "    x = torch.stack([data[i:i+block_size] for i in ix])\n",
    "    y = torch.stack([data[i+1:i+block_size+1] for i in ix])\n",
    "    return x, y\n",
    "\n",
    "xb, yb = get_batch('train')\n",
    "print('inputs:')\n",
    "print(xb.shape)\n",
    "print(xb)\n",
    "print('targets:')\n",
    "print(yb.shape)\n",
    "print(yb)\n",
    "\n",
    "print('----')\n",
    "\n",
    "for b in range(batch_size): # batch dimension\n",
    "    for t in range(block_size): # time dimension\n",
    "        context = xb[b, :t+1]\n",
    "        target = yb[b,t]\n",
    "        print(f\"when input is {context.tolist()} the target: {target}\")"
   ]
  },
  {
   "cell_type": "code",
   "execution_count": null,
   "id": "f0837551-0ee4-41a2-836c-c487720922a1",
   "metadata": {},
   "outputs": [],
   "source": []
  }
 ],
 "metadata": {
  "kernelspec": {
   "display_name": "Python 3 (ipykernel)",
   "language": "python",
   "name": "python3"
  },
  "language_info": {
   "codemirror_mode": {
    "name": "ipython",
    "version": 3
   },
   "file_extension": ".py",
   "mimetype": "text/x-python",
   "name": "python",
   "nbconvert_exporter": "python",
   "pygments_lexer": "ipython3",
   "version": "3.10.12"
  }
 },
 "nbformat": 4,
 "nbformat_minor": 5
}
